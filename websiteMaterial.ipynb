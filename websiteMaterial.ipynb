{
 "cells": [
  {
   "cell_type": "markdown",
   "metadata": {},
   "source": [
    "# A Jupyter Notebook to generate a CellML file for the selected structures in the Generic Cell Flatmap\n",
    "\n",
    "### The description for each cell of the Jupyter Notebook is provided in order as follows:\n"
   ]
  },
  {
   "cell_type": "markdown",
   "metadata": {},
   "source": [
    "## The required libraries"
   ]
  },
  {
   "cell_type": "code",
   "execution_count": 1,
   "metadata": {
    "code_folding": []
   },
   "outputs": [],
   "source": [
    "# Libraries\n",
    "\n",
    "# b) Data extraction\n",
    "from pyomexmeta import RDF, eUriType\n",
    "import os\n",
    "import sys\n",
    "import xml.etree.ElementTree as ET\n",
    "import rdflib\n",
    "import re\n",
    "from lxml import etree\n",
    "\n",
    "# c) General\n",
    "import copy\n",
    "import difflib\n",
    "import numpy as np\n",
    "import pandas as pd\n",
    "import math\n",
    "import operator as op\n",
    "import ast\n",
    "import re\n",
    "import string\n",
    "import csv\n",
    "import xlsxwriter\n",
    "import json\n",
    "\n",
    "# d) Plot\n",
    "import matplotlib.pyplot as plt\n",
    "from matplotlib import markers\n",
    "import matplotlib.font_manager as font_manager\n",
    "import matplotlib.colors\n",
    "from pylab import rcParams\n",
    "import matplotlib.image as mpimg"
   ]
  },
  {
   "cell_type": "markdown",
   "metadata": {},
   "source": [
    "## Defining thetemplate groups\n"
   ]
  },
  {
   "cell_type": "code",
   "execution_count": 2,
   "metadata": {},
   "outputs": [],
   "source": [
    "# Here we see which group of transporters/channels belong to which template\n",
    "templateGroups = {'SLC2':['SLC2A1','SLC2A2','SLC2A3'],\n",
    "                  'SLC4':['SLC4A1','SLC4A2','SLC4A3']}"
   ]
  },
  {
   "cell_type": "markdown",
   "metadata": {},
   "source": [
    "## Finding the appropriate templates\n"
   ]
  },
  {
   "cell_type": "code",
   "execution_count": 3,
   "metadata": {},
   "outputs": [
    {
     "name": "stdout",
     "output_type": "stream",
     "text": [
      "inUse ==> {'SLC4A1': ['SLC4'], 'SLC2A1': ['SLC2']}\n"
     ]
    }
   ],
   "source": [
    "channelSelected = ['SLC4A1', 'SLC2A1']\n",
    "inUse={}\n",
    "for selected in channelSelected:\n",
    "    for key in templateGroups.keys():\n",
    "        for transporterName,i in zip(templateGroups[key],range(len(templateGroups[key]))):\n",
    "            if selected == transporterName:\n",
    "                inUse[selected]=[]\n",
    "                inUse[transporterName].append(key)\n",
    "            \n",
    "\n",
    "print('inUse ==>' ,inUse)  "
   ]
  },
  {
   "cell_type": "markdown",
   "metadata": {},
   "source": [
    "## Retrieve the annotations\n",
    "\n",
    "Retreiving the annotations from the CellML parameter files. \n",
    "The biological structures might have the same bond grpah representation (template) but each structure has its own unique parameter values.\n",
    "We have stored the parameters for each structure in a CellML file. The parameters are annotated and the file name has the same name as the biological structure. For example, here the structures **SLC2A1 & SLC4A1** are selected from the flatmap and the parameters are retrieved from **SLC2A1.cellml & SLC4A1.cellml**. Using the following function (**getAnnotations**), we extract the annotations as RDFs."
   ]
  },
  {
   "cell_type": "code",
   "execution_count": 4,
   "metadata": {
    "code_folding": [
     1
    ]
   },
   "outputs": [],
   "source": [
    "# Retreiving the annotations from the CellML parameter files\n",
    "def getAnnotations(add):\n",
    "    parser = etree.XMLParser(recover=True)\n",
    "    root = etree.parse(add, parser).getroot()\n",
    "    rdfGraph = rdflib.Graph()\n",
    "    for rdfElement in root.iter():\n",
    "        if rdfElement.tag.endswith('RDF'):\n",
    "            try:\n",
    "                rdfGraph.parse(data = etree.tostring(rdfElement), format=\"application/rdf+xml\")\n",
    "            except:\n",
    "                pass\n",
    "            \n",
    "    def getLeaves(sbj, graph):\n",
    "        triples = list(graph.triples((sbj,None,None)))\n",
    "        leaves = []\n",
    "        if len(triples)>0:\n",
    "            for s, p, o in triples:\n",
    "                result =  getLeaves(o,graph)\n",
    "                leaves += result\n",
    "            return list(set(leaves))\n",
    "        else:\n",
    "            return [sbj]\n",
    "        \n",
    "    # Opens the CellML file and returns the list of variables names\n",
    "    f = open(add,'r')\n",
    "    text = f.read()\n",
    "    root = ET.fromstring(text)\n",
    "\n",
    "    rdfs = root.findall('{http://www.w3.org/1999/02/22-rdf-syntax-ns#}RDF')\n",
    "\n",
    "    List1=[]\n",
    "    for child in rdfs:\n",
    "        for grand in child:\n",
    "            List1.append(grand.attrib.get('{http://www.w3.org/1999/02/22-rdf-syntax-ns#}about'))\n",
    "    \n",
    "    List = list(dict.fromkeys(List1))\n",
    "    if '#metaid0' in List:\n",
    "        List.remove('#metaid0')\n",
    "        \n",
    "        \n",
    "    triplesList={}\n",
    "    for i in range(len(List)):\n",
    "        sbj = rdflib.URIRef(List[i])\n",
    "        triplesList[i]=getLeaves(sbj, rdfGraph)\n",
    "\n",
    "\n",
    "    rdfs=[]\n",
    "    \n",
    "    for item in triplesList:\n",
    "        d = []\n",
    "        for k in range(len(triplesList[item])):\n",
    "            if 'opb' in triplesList[item][k] or 'chebi' in triplesList[item][k] or 'fma' in triplesList[item][k] or 'go' in triplesList[item][k]: \n",
    "                lSplit= triplesList[item][k].split('/')\n",
    "                d.append(lSplit[-1])\n",
    "            else: # free-style descriptions!\n",
    "                d.append(str(triplesList[item][k]))\n",
    "    \n",
    "        rdfs.append(d)\n",
    "\n",
    "    for child in root:\n",
    "        if child.tag == '{http://www.cellml.org/cellml/1.1#}'+'component':\n",
    "            modelComponentName = child.attrib.get('name')\n",
    "    \n",
    "    \n",
    "    listP = []\n",
    "    for item in List:\n",
    "        for x in item.split('.'):\n",
    "            if '#'+modelComponentName == x:\n",
    "                itemP = item.replace(x+'.', '')\n",
    "                listP.append(itemP)\n",
    "                \n",
    "\n",
    "            \n",
    "    return [listP,rdfs,root]"
   ]
  },
  {
   "cell_type": "markdown",
   "metadata": {},
   "source": [
    "## Retrieve the values\n",
    "\n",
    "The function **valExtraction** retreives the initial values from the CellML parameter files (here, **SLC2A1.cellml & SLC4A1.cellml**). "
   ]
  },
  {
   "cell_type": "code",
   "execution_count": 5,
   "metadata": {
    "code_folding": [
     0
    ]
   },
   "outputs": [],
   "source": [
    "def valExtraction(root,List): \n",
    "    \n",
    "    init=[]; variables=[]; els=[]\n",
    "    \n",
    "    for child in root:\n",
    "        if child.tag == '{http://www.cellml.org/cellml/1.1#}'+'component':\n",
    "            modelComponentName = child.attrib.get('name')\n",
    "            \n",
    "    components = root.findall('{http://www.cellml.org/cellml/1.1#}component')\n",
    "    \n",
    "    for comp in components:\n",
    "        variables.append(comp.findall('{http://www.cellml.org/cellml/1.1#}variable'))\n",
    "        \n",
    "    for element in List:  \n",
    "        for var in variables:\n",
    "            for v in var:   \n",
    "                if modelComponentName+'.'+element == v.attrib['{http://www.cellml.org/metadata/1.0#}id']:\n",
    "                    if 'initial_value' in v.attrib: # if any initial value exists take it\n",
    "                        init.append(v.attrib['initial_value'])    \n",
    "                    else:\n",
    "                        init.append(None)\n",
    "    return init"
   ]
  },
  {
   "cell_type": "markdown",
   "metadata": {},
   "source": [
    "## An all-in-one dictionary\n",
    "\n",
    "For the ease of access, a dictionary (**parametersData**) is defined in which the keys represent the structures' names and the values represent the variable name, RDF, and initial value for each parameter. The structure of the dictionary is as follows:\n",
    "\n",
    "```parametersData[SLC1] = [[variable1 , RDF1 , initial value1], [variable2 , RDF2 , initial value2],...]```"
   ]
  },
  {
   "cell_type": "code",
   "execution_count": 6,
   "metadata": {
    "code_folding": []
   },
   "outputs": [],
   "source": [
    "annotations={}\n",
    "for transporterName in inUse:\n",
    "    addressP = '/Users/nsha457/Documents/Jupyter_files/CellmlScriptProduction/enzymes/{0}.cellml'.format(transporterName)\n",
    "    [List,rdfs,root] = getAnnotations(addressP)\n",
    "    initialVals = valExtraction(root,List)\n",
    "    annotations[transporterName] = []\n",
    "    annotations[transporterName] = [List,rdfs,initialVals]\n",
    "    \n",
    "parametersData = {}\n",
    "for key in annotations:\n",
    "    parametersData[key] = []\n",
    "    for j in range(len(annotations[key][0])):\n",
    "        parametersData[key].append([annotations[key][0][j],annotations[key][1][j],annotations[key][2][j]])\n",
    "            \n",
    "            "
   ]
  },
  {
   "cell_type": "markdown",
   "metadata": {},
   "source": [
    "## Checking for linking points\n",
    "\n",
    "To find out how the selected biological structures must be connected to each other, we need to find their mutual entities/components. For instance, in the surrent example of **SLC2A1 & SLC4A1**, the concentrations of **Ai** and **Ao** are common between the two structures. This is understood by the following function (**checkMutual**). This function searches for identical RDFs among the selected models in the **parametersData** dictionary. If the common entities do not have the same initial values, the function asks the user to choose between the values or insert a new value. The dictionary **parametersData** will then be updated by the new inserted values.\n",
    "\n",
    "You'll see that the initial concentration of  ```['FMA:226050', 'OPB_00340', 'CHEBI:39123']```) and ```['FMA:226050', 'OPB_00079', 'CHEBI:39123']``` have different values in **SLC2A1 & SLC4A1**. In both cases we decided to insert new values."
   ]
  },
  {
   "cell_type": "code",
   "execution_count": 7,
   "metadata": {
    "code_folding": [
     0
    ]
   },
   "outputs": [],
   "source": [
    "def checkMutual(parametersData):\n",
    "\n",
    "    repeat = []\n",
    "    mutualVars={}\n",
    "    commonAnnotsDiffVals = {}; CommonAmountsAA = {}; CommonAmountsBB = {};\n",
    "    for k1 in range(len(list(parametersData))):\n",
    "        for k2 in range(len(list(parametersData))):\n",
    "            if list(parametersData)[k1] != list(parametersData)[k2] and (list(parametersData)[k1],list(parametersData)[k2]) not in repeat and (list(parametersData)[k2],list(parametersData)[k1]) not in repeat:    \n",
    "                if (list(parametersData.keys())[k1],list(parametersData.keys())[k2]) not in mutualVars:\n",
    "                    mutualVars[(list(parametersData.keys())[k1],list(parametersData.keys())[k2])]=[]\n",
    "\n",
    "                for i1 in range(len(list(parametersData.values())[k1])):\n",
    "                    for i2 in range(len(list(parametersData.values())[k2])):\n",
    "                        if all(elem in list(parametersData.values())[k1][i1][1] for elem in list(parametersData.values())[k2][i2][1]):\n",
    "                            repeat.append((list(parametersData)[k1],list(parametersData)[k2]))\n",
    "\n",
    "                            mutualVars[(list(parametersData.keys())[k1],list(parametersData.keys())[k2])].append(list(parametersData.values())[k1][i1][0])\n",
    "                            mutualVars[(list(parametersData.keys())[k1],list(parametersData.keys())[k2])].append(list(parametersData.values())[k1][i1][1])\n",
    "\n",
    "                            if list(parametersData.values())[k1][i1][2] != list(parametersData.values())[k2][i2][2]:\n",
    "\n",
    "                                if (list(parametersData.keys())[k1],list(parametersData.keys())[k2]) not in commonAnnotsDiffVals:\n",
    "                                    commonAnnotsDiffVals[(list(parametersData.keys())[k1],list(parametersData.keys())[k2])]=[]\n",
    "                                    CommonAmountsAA[(list(parametersData.keys())[k1],list(parametersData.keys())[k2])] = []\n",
    "                                    CommonAmountsBB[(list(parametersData.keys())[k1],list(parametersData.keys())[k2])] = []\n",
    "\n",
    "                                commonAnnotsDiffVals[(list(parametersData.keys())[k1],list(parametersData.keys())[k2])].append(list(parametersData.values())[k1][i1][1])\n",
    "                                CommonAmountsAA[(list(parametersData.keys())[k1],list(parametersData.keys())[k2])].append(list(parametersData.values())[k1][i1][2])\n",
    "                                CommonAmountsBB[(list(parametersData.keys())[k1],list(parametersData.keys())[k2])].append(list(parametersData.values())[k2][i2][2])\n",
    "\n",
    "    # Getting the preferred value from the user for the recognised same variables with different values\n",
    "    for i in range(len(list(commonAnnotsDiffVals.keys()))):\n",
    "        for j in range(len(list(commonAnnotsDiffVals.values())[i])):\n",
    "            print('Different values found for: ')\n",
    "            print('\\n')\n",
    "            print(list(commonAnnotsDiffVals.values())[i][j] ,list(commonAnnotsDiffVals.keys())[i],':',list(CommonAmountsAA.values())[i][j],  'and' , list(CommonAmountsBB.values())[i][j])   \n",
    "            list(CommonAmountsAA.values())[i][j]=copy.deepcopy(input('Enter the preferred value:'))\n",
    "\n",
    "\n",
    "    # Copying the changed values to the list of initial amounts of the model    \n",
    "    for mutualTransporters in commonAnnotsDiffVals: # (x,y)\n",
    "        for val1,i in zip(commonAnnotsDiffVals[mutualTransporters],range(len(commonAnnotsDiffVals[mutualTransporters]))):\n",
    "            for transporterName in parametersData: \n",
    "                for val2 in parametersData[transporterName]:\n",
    "                    if transporterName == mutualTransporters[0] and all(elem in val1 for elem in val2[1]):\n",
    "                        val2[2] = copy.deepcopy(CommonAmountsAA[mutualTransporters][i])\n",
    "                    if transporterName == mutualTransporters[1] and all(elem in val1 for elem in val2[1]):\n",
    "                        val2[2] = copy.deepcopy(CommonAmountsAA[mutualTransporters][i])\n",
    "\n",
    "    return [parametersData,mutualVars]               "
   ]
  },
  {
   "cell_type": "code",
   "execution_count": 8,
   "metadata": {},
   "outputs": [],
   "source": [
    "[parametersData,mutualVars] = checkMutual(parametersData)"
   ]
  },
  {
   "cell_type": "markdown",
   "metadata": {},
   "source": [
    "## Reference annotations\n",
    "\n",
    "As mentioned before, multiple biological structures can be modelled using one single template. Initially, the templates have components with random names. We need to have a reference to see which annotations (RDFs) can be assigned to these components. For example, in the 'SLC2' template, the component ```Ai``` can be either ```['FMA:226050', 'OPB_00340', 'CHEBI:39123']``` or ```[\"randomRDF1\"]```. This reference is defined in **referenceAnnotations**."
   ]
  },
  {
   "cell_type": "code",
   "execution_count": 9,
   "metadata": {
    "code_folding": [
     0
    ]
   },
   "outputs": [],
   "source": [
    "referenceAnnotations = {'SLC2': [{'Ai':[['FMA:226050', 'OPB_00340', 'CHEBI:17234'],['FMA:226050', 'OPB_00340', 'CHEBI:28260'],['FMA:226050', 'OPB_00340', 'CHEBI:37684'],['FMA:226050', 'OPB_00340', 'CHEBI:5417']]},\n",
    "                                {'Ao':[['OPB_00340', 'FMA:70022', 'CHEBI:17234'], ['OPB_00340', 'FMA:70022', 'CHEBI:28260'],['OPB_00340', 'FMA:70022', 'CHEBI:37684'],['OPB_00340', 'FMA:70022', 'CHEBI:5417']]},\n",
    "                                {'Ei':[['FMA:226050', 'OPB_00340', 'CHEBI:38807']]},\n",
    "                                {'Eo':[['OPB_00340', 'FMA:70022', 'CHEBI:38807']]},\n",
    "                                {'EAi':[['CHEBI:81851', 'FMA:226050', 'OPB_00340']]},                              \n",
    "                                {'EAo':[['CHEBI:81851', 'OPB_00340', 'FMA:70022']]},\n",
    "                                {'K_Ai':[['OPB_00079', 'FMA:226050', 'CHEBI:17234'], ['OPB_00079', 'FMA:226050', 'CHEBI:28260'], ['OPB_00079', 'FMA:226050', 'CHEBI:37684'], ['OPB_00079', 'FMA:226050', 'CHEBI:5417']]},\n",
    "                                {'K_Ao':[['OPB_00079', 'FMA:70022', 'CHEBI:17234'], ['OPB_00079', 'FMA:70022', 'CHEBI:28260'], ['OPB_00079', 'FMA:70022', 'CHEBI:37684'], ['OPB_00079', 'FMA:70022', 'CHEBI:5417']]},\n",
    "                                {'K_Ei':[['OPB_00079', 'FMA:226050', 'CHEBI:38807']]},\n",
    "                                {'K_Eo':[['OPB_00079', 'FMA:70022', 'CHEBI:38807']]},\n",
    "                                {'K_EAi':[['CHEBI:81851', 'FMA:226050', 'OPB_00079']]},\n",
    "                                {'K_EAo':[['CHEBI:81851', 'FMA:70022', 'OPB_00079']]},\n",
    "                                {'kappa_Re1':[['CHEBI:64297', 'SLC2A1_Re1', 'OPB_01296']]},\n",
    "                                {'kappa_Re2':[['SLC2A1_Re2', 'CHEBI:64297', 'OPB_01296']]},\n",
    "                                {'kappa_Re3':[['CHEBI:64297', 'SLC2A1_Re3', 'OPB_01296']]},\n",
    "                                {'kappa_Re4':[['SLC2A1_Re4', 'CHEBI:64297', 'OPB_01296']]},],\n",
    "                       'SLC4': [{'Ai':[['FMA:226050', 'OPB_00340', 'CHEBI:17234'],[\"randomRDF17\"]]},\n",
    "                                {'Ao':[['OPB_00340', 'FMA:70022', 'CHEBI:17234'], [\"randomRDF18\"]]},\n",
    "                                {'Ei':[['CHEBI:39000', 'OPB_00340', 'FMA:226050'], [\"randomRDF19\"]]},\n",
    "                                {'Eo':[['CHEBI:39000', 'OPB_00340', 'FMA:70022'], [\"randomRDF20\"]]},\n",
    "                                {'EAi':[['CHEBI:31340', 'FMA:226050', 'OPB_00340'], [\"randomRDF21\"]]},\n",
    "                                {'EAo':[['CHEBI:31340', 'FMA:70022', 'OPB_00340'], [\"randomRDF22\"]]},\n",
    "                                {'Bi':[['OPB_00340', 'FMA:226050', 'CHEBI:29101'], [\"randomRDF23\"]]},\n",
    "                                {'Bo':[['OPB_00340', 'FMA:70022', 'CHEBI:29101'], [\"randomRDF24\"]]},\n",
    "                                {'EBi':[['OPB_00340', 'FMA:226050', 'CHEBI:62965'], [\"randomRDF25\"]]},\n",
    "                                {'EBo':[['OPB_00340', 'FMA:70022', 'CHEBI:62965'], [\"randomRDF26\"]]},\n",
    "                                {'K_Ai':[['FMA:226050', 'CHEBI:17234', 'OPB_00079'],[\"randomRDF27\"]]},\n",
    "                                {'K_Ao':[['OPB_00079', 'FMA:70022', 'CHEBI:17234'], [\"randomRDF28\"]]},\n",
    "                                {'K_Ei':[['CHEBI:39000', 'OPB_00079', 'FMA:226050'], [\"randomRDF29\"]]},\n",
    "                                {'K_Eo':[['CHEBI:39000', 'OPB_00079', 'FMA:70022'], [\"randomRDF30\"]]},\n",
    "                                {'K_EAi':[['CHEBI:31340', 'OPB_00079', 'FMA:226050'], [\"randomRDF31\"]]},\n",
    "                                {'K_EAo':[['CHEBI:31340', 'OPB_00079', 'FMA:70022'], [\"randomRDF32\"]]},\n",
    "                                {'K_Bi':[['OPB_00079', 'FMA:226050', 'CHEBI:29101'], [\"randomRDF33\"]]},\n",
    "                                {'K_Bo':[['OPB_00079', 'FMA:70022', 'CHEBI:29101'], [\"randomRDF34\"]]},\n",
    "                                {'K_EBi':[['OPB_00079', 'FMA:226050', 'CHEBI:62965'], [\"randomRDF35\"]]},\n",
    "                                {'K_EBo':[['OPB_00079', 'FMA:70022', 'CHEBI:62965'], [\"randomRDF36\"]]},\n",
    "                                {'kappa_Re1':[['CHEBI:64297', 'SLC4A1_Re1', 'OPB_01296'], [\"randomRDF37\"]]},\n",
    "                                {'kappa_Re2':[['CHEBI:64297', 'SLC4A1_Re2', 'OPB_01296'], [\"randomRDF38\"]]},\n",
    "                                {'kappa_Re3':[['CHEBI:64297', 'SLC4A1_Re3', 'OPB_01296'], [\"randomRDF39\"]]},\n",
    "                                {'kappa_Re4':[['CHEBI:64297', 'SLC4A1_Re4', 'OPB_01296'], [\"randomRDF40\"]]},\n",
    "                                {'kappa_Re5':[['CHEBI:64297', 'SLC4A1_Re5', 'OPB_01296'], [\"randomRDF41\"]]},\n",
    "                                {'kappa_Re6':[['CHEBI:64297', 'SLC4A1_Re6', 'OPB_01296'], [\"randomRDF42\"]]},\n",
    "                               ]}"
   ]
  },
  {
   "cell_type": "markdown",
   "metadata": {},
   "source": [
    "## Defining the templates using dictionaries\n",
    "\n",
    "3 primary dictionaries work as templates for bond graph models of biological structures:\n",
    "\n",
    "- **Reactions:** for each template (SLC2, SLC4, ...) the reactions are defined.\n",
    "\n",
    "- **reaction_reactants_templates:** the reactants along with their stoichiometries are defined for each reaction inside the templates.\n",
    "\n",
    "- **reaction_products_templates:** the products along with their stoichiometries are defined for each reaction inside the templates.\n",
    "\n",
    "It's worth mentioning that the concentrations' names used in the templates (the above 3 dictionaries) are the same arbitrary names used in **referenceAnnotations**. The specified models will be created in the next stage by applying the extracted annotations from the selected CellML files."
   ]
  },
  {
   "cell_type": "code",
   "execution_count": 10,
   "metadata": {},
   "outputs": [],
   "source": [
    "Reactions={'SLC2': ['Re1', 'Re2', 'Re3', 'Re4'],\n",
    "           'SLC4': ['Re1', 'Re2', 'Re3', 'Re4', 'Re5', 'Re6']}\n",
    "\n",
    "reaction_reactants_templates={'SLC2': [{'Re1':[(1,'EAi')]}, {'Re2':[(1,'Eo'),(1,'Ao')]}, {'Re3':[(1,'Ei')]}, {'Re4':[(1,'EAo')]}],\n",
    "                              'SLC4': [{'Re1':[(1,'Ao'),(1,'Eo')]}, {'Re2':[(1,'EAi')]}, {'Re3':[(1,'EBo')]}, {'Re4':[(1,'Bi'),(1,'Ei')]}, {'Re5':[(1,'EBi')]}, {'Re6':[(1,'EAo')]}]   }\n",
    "\n",
    "reaction_products_templates={'SLC2': [{'Re1':[(1,'Ai'),(1,'Ei')]}, {'Re2':[(1,'EAo')]}, {'Re3':[(1,'Eo')]}, {'Re4':[(1,'EAi')]}],\n",
    "                             'SLC4': [{'Re1':[(1,'EAo')]}, {'Re2':[(1,'Ai'),(1,'Ei')]}, {'Re3':[(1,'Bo'),(1,'Eo')]}, {'Re4':[(1,'EBi')]}, {'Re5':[(1,'EBo')]}, {'Re6':[(1,'EAi')]}]}\n"
   ]
  },
  {
   "cell_type": "markdown",
   "metadata": {},
   "source": [
    "## Structure specific model creation\n",
    "\n",
    "Combining the data from **parametersData** and the templates' information (**reaction_reactants_templates** & **reaction_products_templates**). This adds the RDFs to the templates. Two dictionaries are generated:\n",
    "\n",
    "- reaction_reactants\n",
    "\n",
    "- reaction_products\n",
    "\n",
    "Each of these two dictionaries include the initial values and the RDF for the reactants/products for each reaction inside the biological structures. For instance, **reaction_reactants** reads:\n",
    "\n",
    "```{'SLC4A1_Re2': [(1, ['CHEBI:31340', 'FMA:226050', 'OPB_00340', 'SLC4A1'])],```\n",
    "```'SLC4A1_Re6': [(1, ['CHEBI:31340', 'FMA:70022', 'OPB_00340', 'SLC4A1'])], ...}```\n",
    "\n",
    "This means that the reaction ```Re2``` in the structure ```SLC4A1``` has a reactant with the stoichiometry of ```1``` and RDF of ```['CHEBI:31340', 'FMA:226050', 'OPB_00340', 'SLC4A1']```."
   ]
  },
  {
   "cell_type": "code",
   "execution_count": 11,
   "metadata": {
    "code_folding": [
     2
    ]
   },
   "outputs": [],
   "source": [
    "reaction_reactants={}\n",
    "reaction_products={}\n",
    "for transporterName in parametersData:  \n",
    "    for entity in parametersData[transporterName]:\n",
    "        for reaction in Reactions[inUse[transporterName][0]]:\n",
    "            if transporterName+'_'+reaction in entity[1]:\n",
    "                reaction_reactants[transporterName+'_'+reaction]=[]\n",
    "                reaction_products[transporterName+'_'+reaction]=[]\n",
    "                for stoi in reaction_reactants_templates[inUse[transporterName][0]]:\n",
    "                    for key,values in stoi.items():\n",
    "                        if key == reaction:\n",
    "                            for value in values: # (value[0],value[1])=(1,Ai)\n",
    "                                for reference in referenceAnnotations[inUse[transporterName][0]]:\n",
    "                                    for ID in reference:\n",
    "                                        for annot in reference[ID]:\n",
    "                                            if ID == value[1]: \n",
    "                                                for entity0 in parametersData[transporterName]:\n",
    "                                                    if all(element in annot for element in entity0[1]):\n",
    "                                                        X=copy.deepcopy(annot)\n",
    "                                                        X.append(transporterName)\n",
    "                                                        reaction_reactants[transporterName+'_'+reaction].append((value[0],X))\n",
    "                for stoi in reaction_products_templates[inUse[transporterName][0]]:\n",
    "                    for key,values in stoi.items():\n",
    "                        if key == reaction:\n",
    "                            for value in values: # (value[0],value[1])=(1,Ai)\n",
    "                                for reference in referenceAnnotations[inUse[transporterName][0]]:\n",
    "                                    for ID in reference:\n",
    "                                        for annot in reference[ID]:\n",
    "                                            if ID == value[1]: \n",
    "                                                for entity0 in parametersData[transporterName]:\n",
    "                                                    if all(element in annot for element in entity0[1]):\n",
    "                                                        X=copy.deepcopy(annot)\n",
    "                                                        X.append(transporterName)\n",
    "                                                        reaction_products[transporterName+'_'+reaction].append((value[0],X))                                           "
   ]
  },
  {
   "cell_type": "markdown",
   "metadata": {},
   "source": [
    "## List of fluxes and list of species\n",
    "\n",
    "In the next cell all the fluxes and species are categorized for later application. Here, ```V``` is a list of all the fluxes (related to the reactions) and ```Species``` is a list of all the species found in the models. Next, since there might be duplicate species in the ```Species``` list, a list of non-repetitive species is created (```speciesNoDuplicate```). As well as the non-repetitive species, we generate a list of their corresponding species constants in ```speciesConstants```."
   ]
  },
  {
   "cell_type": "code",
   "execution_count": 12,
   "metadata": {
    "code_folding": [
     1,
     5,
     13,
     22
    ]
   },
   "outputs": [],
   "source": [
    "V = []\n",
    "for flux in reaction_reactants:\n",
    "    V.append(flux)\n",
    "    \n",
    "Species = []\n",
    "for transporterName in parametersData:\n",
    "    for entity in parametersData[transporterName]:\n",
    "        if 'OPB_00340' in entity[1]:\n",
    "            X = copy.deepcopy(entity[1])\n",
    "            X.append(transporterName)\n",
    "            Species.append(X)\n",
    "            \n",
    "speciesNoDuplicate = []\n",
    "for s in Species:\n",
    "    for transporterName in inUse:\n",
    "        if transporterName in s:\n",
    "            ss = copy.deepcopy(s)\n",
    "            ss.remove(transporterName)\n",
    "            if ss not in speciesNoDuplicate:\n",
    "                speciesNoDuplicate.append(ss)\n",
    "                \n",
    "speciesConstants=[]\n",
    "for species in speciesNoDuplicate:\n",
    "    X = copy.deepcopy(species)\n",
    "    X.remove('OPB_00340')\n",
    "    for transporterName in parametersData:\n",
    "        for entity in parametersData[transporterName]:\n",
    "            if all(el in entity[1] for el in ['OPB_00079']+X) and entity[1] not in speciesConstants:\n",
    "                speciesConstants.append(entity[1])"
   ]
  },
  {
   "cell_type": "markdown",
   "metadata": {},
   "source": [
    "## Generating the \"N\" matrix\n",
    "\n",
    "In this cell, the conservation law for the **0-nodes** is determined. The concentration of the species is formulated as ODEs. Matrix **N** demonstrates how the ODEs are related to the fluxes. The rows of the matrix represent the number of species in all the models (no duplicates) and the columns represent all the fluxes for reactions. The elements of **N** are:\n",
    "\n",
    "- ***'0':*** in this case, the corresponding flux has no effect on the concentration of the species.\n",
    "\n",
    "- ***positive:*** The species is being produced by that specific reaction.\n",
    "\n",
    "- ***negative:*** The species is being consumed in that specific reaction."
   ]
  },
  {
   "cell_type": "code",
   "execution_count": 13,
   "metadata": {
    "code_folding": [
     1
    ]
   },
   "outputs": [],
   "source": [
    "M=np.zeros((len(Species),len(V)))\n",
    "for s in range(len(Species)):\n",
    "    for key,i in zip(reaction_products,range(len(reaction_products))):\n",
    "        for stoi,val  in reaction_products[key]:\n",
    "            if all(el in val for el in Species[s]):\n",
    "                M[s][i] = stoi\n",
    "    for key,i in zip(reaction_reactants,range(len(reaction_reactants))):\n",
    "        for stoi,val in reaction_reactants[key]:\n",
    "            if all(el in val for el in Species[s]):\n",
    "                M[s][i] = -stoi\n",
    "    \n",
    "\n",
    "N=np.zeros((len(speciesNoDuplicate),len(V)))\n",
    "for transporterName in inUse:\n",
    "    for v,i in zip(V,range(len(V))):\n",
    "        if transporterName in v:\n",
    "            for s1 in range(len(speciesNoDuplicate)):\n",
    "                for s2 in range(len(Species)):\n",
    "                    if transporterName in Species[s2]:\n",
    "                        if all(el in Species[s2] for el in speciesNoDuplicate[s1]):\n",
    "                            N[s1][i] = M[s2][i]"
   ]
  },
  {
   "cell_type": "markdown",
   "metadata": {},
   "source": [
    "# Writing the CellML code in a text file\n",
    "\n",
    "Here, a CellML file is created and the units are imported from the units file: **units_BG.cellml**. One can change the units for different entities from **units_BG.cellml** as long as the units' names are not changed. For example the unit of biochemical concentrations is **concentrationUnit** in the main CellML file and **units_BG.cellml**. This name must remain untouched but its definition can be changed in **units_BG.cellml**.\n",
    "\n",
    "The variables include all the entities taken from the lists: \n",
    "\n",
    "- speciesNoDuplicate: for biochemical concentrations. In the CellML file they're named as ```q_0, q_1,...```\n",
    "\n",
    "- speciesConstants: for the species constants. In the CellML file they're named as ```K_0, K_1,...```\n",
    "\n",
    "- V: for reaction fluxes and reaction rate constants. In the CellML file reaction fluxes are named as ```v_0, v_1,...``` and the reaction rate constants are named as ```kappa_0, kappa_1,...```\n",
    "\n",
    "\n",
    "The information required for the 0-nodes are taken from the ```N``` matrix and the required for the 1-nodes are taken from the templates ```reaction_reactants``` and ```reaction_products```.\n",
    "\n",
    "\n",
    "Along with generating the CellML variables, a list will also be created in which each variable is mapped to its annotation (RDF). This will be used later in outputing a JSON file as a complimentary information to the CellML file."
   ]
  },
  {
   "cell_type": "code",
   "execution_count": 14,
   "metadata": {
    "code_folding": [
     0,
     25,
     63,
     72,
     85
    ]
   },
   "outputs": [],
   "source": [
    "# Create a text file (TEXT)\n",
    "\n",
    "unitsImport = ['def model composed_model as',\n",
    "               '\\tdef import using \"units_BG.cellml\" for',\n",
    "                '\\t\\tunit concentrationUnit using unit concentrationUnit;',\n",
    "               '\\t\\tunit speciesConstantUnit using unit speciesConstantUnit;',\n",
    "               '\\t\\tunit fluxUnit using unit fluxUnit;',\n",
    "                '\\tenddef;',\n",
    "              '\\tdef comp main as']\n",
    "\n",
    "with open('GFG.txt', 'w') as fp:\n",
    "    pass    \n",
    "with open('GFG.txt', 'a') as file:\n",
    "    for line in unitsImport:\n",
    "        file.write(line+'\\n')\n",
    "\n",
    "        \n",
    "with open('GFG.txt', 'a') as file:\n",
    "    file.write('\\t\\tvar t: second {init: 0};'+'\\n')\n",
    "    \n",
    "cellmlRef=[]        \n",
    "\n",
    "q = ['q_{0}'.format(x) for x in range(1000)]\n",
    "k=0\n",
    "checkDup=[]\n",
    "for species,i in zip(speciesNoDuplicate,range(len(speciesNoDuplicate))):\n",
    "        for transporterName,annotation in parametersData.items():\n",
    "            for value in annotation:\n",
    "                if all(el in value[1] for el in species):\n",
    "                    flag=0; \n",
    "                    for j in range(len(checkDup)):\n",
    "                        if all(x in checkDup[j] for x in value[1]):\n",
    "                            flag=1\n",
    "                                \n",
    "                    if flag==0:\n",
    "                        checkDup.append(value[1])\n",
    "                        cellmlRef.append((value[1],q[k],'concentrationUnit'))\n",
    "                        with open('GFG.txt', 'a') as file:\n",
    "                            file.write('\\t\\tvar ' +q[k]+': '+'concentrationUnit '+'{'+'init: '+value[2]+'}'+';'+'\\n')\n",
    "                            k+=1\n",
    "                        \n",
    "K = ['K_{0}'.format(x) for x in range(1000)]\n",
    "k=0\n",
    "checkDup=[]\n",
    "for constant,i in zip(speciesConstants,range(len(speciesConstants))):\n",
    "    for transporterName,annotation in parametersData.items():\n",
    "        for value in annotation:\n",
    "            if all(el in value[1] for el in constant):\n",
    "                flag=0; \n",
    "                for j in range(len(checkDup)):\n",
    "                    if all(x in checkDup[j] for x in value[1]):\n",
    "                        flag=1\n",
    "\n",
    "                if flag==0:\n",
    "                    checkDup.append(value[1])\n",
    "                    cellmlRef.append((value[1],K[k],'speciesConstantUnit'))\n",
    "                    with open('GFG.txt', 'a') as file:\n",
    "                        file.write('\\t\\tvar '+K[k]+': '+'speciesConstantUnit '+'{'+'init: '+value[2]+'}'+';'+'\\n')\n",
    "                        k+=1     \n",
    "\n",
    "                        \n",
    "v = ['v_{0}'.format(x) for x in range(1000)]\n",
    "k=0\n",
    "for flux in reaction_reactants:\n",
    "    cellmlRef.append((flux,v[k],'fluxUnit'))\n",
    "    with open('GFG.txt', 'a') as file:\n",
    "        file.write('\\t\\tvar '+v[k]+': '+'fluxUnit '+';'+'\\n')\n",
    "        k+=1\n",
    "\n",
    "        \n",
    "kappa = ['kappa_{0}'.format(x) for x in range(1000)]\n",
    "k=0\n",
    "for flux,i in zip(V,range(len(V))): \n",
    "    for transporterName,annotation in parametersData.items():\n",
    "        for value in annotation:\n",
    "            if flux in value[1]:\n",
    "                cellmlRef.append((value[1],kappa[k],'fluxUnit'))\n",
    "                with open('GFG.txt', 'a') as file:\n",
    "                    file.write('\\t\\tvar '+ kappa[k]+': '+'fluxUnit '+'{'+'init: '+value[2]+'}'+';'+'\\n')\n",
    "                    k+=1\n",
    "\n",
    "# Generating the ODEs       \n",
    "with open('GFG.txt', 'a') as file:\n",
    "    file.write('\\n')\n",
    "    \n",
    "for i in range(np.shape(N)[0]):\n",
    "    for annotation,ID,unit in cellmlRef:\n",
    "        if all(ele in speciesNoDuplicate[i] for ele in annotation):\n",
    "            with open('GFG.txt', 'a') as file:\n",
    "                file.write('\\t\\tode('+ID+',t)=')\n",
    "            for j in range(np.shape(N)[1]):  \n",
    "\n",
    "                if N[i][j] != 0:\n",
    "\n",
    "                    if N[i][j] > 0:\n",
    "                        for annotation2,ID2,unit2 in cellmlRef:\n",
    "                            if V[j] == annotation2:\n",
    "                                with open('GFG.txt', 'a') as file:\n",
    "                                    file.write('+'+str(N[i][j])+'{dimensionless}*'+ID2)\n",
    "\n",
    "                if N[i][j] < 0:\n",
    "                    for annotation2,ID2,unit2 in cellmlRef:\n",
    "                        if V[j] == annotation2:\n",
    "                            with open('GFG.txt', 'a') as file:\n",
    "                                file.write(str(N[i][j])+'{dimensionless}*'+ID2)\n",
    "                                \n",
    "    with open('GFG.txt', 'a') as file:\n",
    "        file.write(';\\n')\n",
    "\n",
    "        \n",
    "# Generating the reaction rates\n",
    "with open('GFG.txt', 'a') as file:\n",
    "    file.write('\\n')\n",
    "\n",
    "for flux in V:\n",
    "    for annotation1,ID1,unit1 in cellmlRef:\n",
    "        if flux == annotation1:\n",
    "            with open('GFG.txt', 'a') as file:\n",
    "                file.write('\\t\\t '+ ID1+'= ') \n",
    "            for annotation2,ID2,unit2 in cellmlRef:\n",
    "                if all(el in annotation2  for el in [flux]+['OPB_01296']):\n",
    "                    with open('GFG.txt', 'a') as file:\n",
    "                        file.write(ID2+'*(') \n",
    "    length = 0                    \n",
    "    for stoi,reactant in reaction_reactants[flux]:\n",
    "        length+=1\n",
    "        for annotation,ID,unit in cellmlRef:\n",
    "            if all(el in reactant for el in annotation):\n",
    "                Q = copy.deepcopy(annotation)\n",
    "                Q.remove('OPB_00340')\n",
    "                for annotation2,ID2,unit2 in cellmlRef:\n",
    "                    if all(el in annotation2 for el in Q+['OPB_00079']):\n",
    "                        with open('GFG.txt', 'a') as file:\n",
    "                            file.write('pow('+ID+'*'+ID2+','+str(stoi)+'{dimensionless}'+')') \n",
    "        \n",
    "        if length < len(reaction_reactants[flux]):\n",
    "            with open('GFG.txt', 'a') as file:\n",
    "                file.write(' * ')\n",
    "            \n",
    "            \n",
    "    with open('GFG.txt', 'a') as file:\n",
    "        file.write(' - ')\n",
    "    \n",
    "    length = 0 \n",
    "    for stoi,product in reaction_products[flux]:\n",
    "        length+=1\n",
    "        for annotation,ID,unit in cellmlRef:\n",
    "            if all(el in product for el in annotation):\n",
    "                Q = copy.deepcopy(annotation)\n",
    "                Q.remove('OPB_00340')\n",
    "                for annotation2,ID2,unit2 in cellmlRef:\n",
    "                    if all(el in Q+['OPB_00079'] for el in annotation2):\n",
    "                        with open('GFG.txt', 'a') as file:\n",
    "                            file.write('pow('+ID+'*'+ID2+','+str(stoi)+'{dimensionless}'+')') \n",
    "       \n",
    "        if length < len(reaction_products[flux]):\n",
    "            with open('GFG.txt', 'a') as file:\n",
    "                file.write(' * ')\n",
    "\n",
    "        \n",
    "        \n",
    "        \n",
    "    with open('GFG.txt', 'a') as file:\n",
    "        file.write(');\\n')\n",
    "                                \n",
    "                    \n",
    "    \n",
    "    \n",
    "        \n",
    "with open('GFG.txt', 'a') as file:\n",
    "    file.write('\\tenddef;'+'\\n'+'enddef;')"
   ]
  },
  {
   "cell_type": "markdown",
   "metadata": {},
   "source": [
    "# Creating a JSON file including:\n",
    "### - Variable names\n",
    "### - Variable values\n",
    "### - Variable units\n",
    "### - Variable RDFs\n",
    "### - RDF meanings"
   ]
  },
  {
   "cell_type": "code",
   "execution_count": 17,
   "metadata": {},
   "outputs": [],
   "source": [
    "# Data to be written\n",
    "dictionary = dict()\n",
    "for rdf,var,unit in cellmlRef:\n",
    "    dictionary[var] = {}\n",
    "    for key,values in parametersData.items():  \n",
    "        for j,item2 in enumerate(values):\n",
    "            if all(el in rdf for el in item2[1]) or all(el in [rdf]+['CHEBI:64297']+['OPB_01296'] for el in item2[1]):\n",
    "                dictionary[var]['value'] = item2[2]\n",
    "                dictionary[var]['unit'] = unit\n",
    "                dictionary[var]['rdf'] = str(item2[1])            \n",
    "        \n",
    "        \n",
    "# Serializing json\n",
    "json_object = json.dumps(dictionary, indent=4)\n",
    " \n",
    "# Writing to sample.json\n",
    "with open(\"CellmlMetadata.json\", \"w\") as outfile:\n",
    "    outfile.write(json_object)"
   ]
  },
  {
   "cell_type": "code",
   "execution_count": 18,
   "metadata": {
    "code_folding": [
     2,
     20
    ]
   },
   "outputs": [],
   "source": [
    "reaction_reactants_cellmlVars={}\n",
    "\n",
    "for reaction in reaction_reactants:\n",
    "    for rdf0,var0,unit0 in cellmlRef:\n",
    "        if all(el in rdf0 for el in reaction):\n",
    "            reaction_reactants_cellmlVars[var0]=[]\n",
    "            for rdf,var,unit in cellmlRef:\n",
    "                for stoi,reactant in reaction_reactants[reaction]:\n",
    "\n",
    "                    for transporterName in inUse.keys():\n",
    "\n",
    "                        if transporterName in reactant:\n",
    "                            reactantCopy = copy.deepcopy(reactant)\n",
    "                            reactantCopy.remove(transporterName)\n",
    "                            if all(el in reactantCopy for el in rdf):\n",
    "\n",
    "                                reaction_reactants_cellmlVars[var0].append((stoi,var))\n",
    "\n",
    "reaction_products_cellmlVars={}\n",
    "\n",
    "for reaction in reaction_products:\n",
    "    for rdf0,var0,unit0 in cellmlRef:\n",
    "        if all(el in rdf0 for el in reaction):\n",
    "            reaction_products_cellmlVars[var0]=[]\n",
    "            for rdf,var,unit in cellmlRef:\n",
    "                for stoi,product in reaction_products[reaction]:\n",
    "\n",
    "                    for transporterName in inUse.keys():\n",
    "\n",
    "                        if transporterName in product:\n",
    "                            productCopy = copy.deepcopy(product)\n",
    "                            productCopy.remove(transporterName)\n",
    "                            if all(el in productCopy for el in rdf):\n",
    "\n",
    "                                reaction_products_cellmlVars[var0].append((stoi,var))\n"
   ]
  },
  {
   "cell_type": "code",
   "execution_count": 19,
   "metadata": {},
   "outputs": [],
   "source": [
    "# json for BG structure\n",
    "\n",
    "dict1 = {'reactants':reaction_reactants_cellmlVars, 'products':reaction_products_cellmlVars}\n",
    "json_object = json.dumps(dict1, indent=4)\n",
    "# Writing to sample.json\n",
    "with open(\"BGstructure.json\", \"w\") as outfile:\n",
    "    outfile.write(json_object)\n"
   ]
  },
  {
   "cell_type": "markdown",
   "metadata": {},
   "source": [
    "## Finding same annotated biochemical entities in other models\n",
    "\n",
    "By running the following cell, we understand the range of values that others have calculated for the same biochemical parameters in various models on PMR. Here, instead of an online search on PMR, we have stored some exemplar annotated CellML models on a local drive. This will be later extended to an online search.\n",
    "\n",
    "The code looks for all the files with ```.cellml``` extension in a given directory.\n",
    "\n",
    "The output of this script is a dictionary (**valueRange**) which gives the values used in other models for the same annotated variables. For optimization purposes, in another dictionary (**valueMinMax**) the minimum and maximum values of **valueRange** are given."
   ]
  },
  {
   "cell_type": "code",
   "execution_count": 20,
   "metadata": {},
   "outputs": [],
   "source": [
    "valueRange = {}\n",
    "valueMinMax = {}\n",
    "\n",
    "PMRmodelsAddress = '/Users/nsha457/Documents/Jupyter_files/CellmlScriptProduction/Exemplar models on PMR'\n",
    "for file in os.listdir(PMRmodelsAddress):\n",
    "    if file.endswith(\".cellml\"):\n",
    "        [List,rdfs,root] = getAnnotations(PMRmodelsAddress+'/{0}'.format(file))\n",
    "        initialVals = valExtraction(root,List)\n",
    "        for i in range(len(cellmlRef)):\n",
    "            for j in range(len(rdfs)):\n",
    "                if all(ele in cellmlRef[i][0] for ele in rdfs[j]):\n",
    "                    if cellmlRef[i][1] in valueRange.keys():\n",
    "                        valueRange[cellmlRef[i][1]].append(initialVals[j])\n",
    "                    else:\n",
    "                        valueRange[cellmlRef[i][1]]=[]\n",
    "                        valueRange[cellmlRef[i][1]].append(initialVals[j])   \n",
    "                        \n",
    "for key,value in valueRange.items():\n",
    "    valueMinMax[key] = []\n",
    "    valueMinMax[key].append(min(valueRange[key]))\n",
    "    valueMinMax[key].append(max(valueRange[key]))\n",
    "\n",
    "    \n",
    "# json for min & max values found in other models\n",
    "\n",
    "json_object = json.dumps(valueMinMax, indent=4)\n",
    "# Writing to sample.json\n",
    "with open(\"valueMinMax.json\", \"w\") as outfile:\n",
    "    outfile.write(json_object)"
   ]
  },
  {
   "cell_type": "code",
   "execution_count": 21,
   "metadata": {},
   "outputs": [
    {
     "data": {
      "text/plain": [
       "{'q_5': ['4.69', '9.38'],\n",
       " 'K_5': ['76', '98.75'],\n",
       " 'q_4': ['6.66', '6.66'],\n",
       " 'K_4': ['39.5', '39.5']}"
      ]
     },
     "execution_count": 21,
     "metadata": {},
     "output_type": "execute_result"
    }
   ],
   "source": [
    "valueMinMax"
   ]
  },
  {
   "cell_type": "code",
   "execution_count": 22,
   "metadata": {},
   "outputs": [
    {
     "data": {
      "text/plain": [
       "{'q_5': ['9.38', '5.09', '4.69'],\n",
       " 'K_5': ['76', '98.75', '79.26'],\n",
       " 'q_4': ['6.66'],\n",
       " 'K_4': ['39.5']}"
      ]
     },
     "execution_count": 22,
     "metadata": {},
     "output_type": "execute_result"
    }
   ],
   "source": [
    "valueRange"
   ]
  }
 ],
 "metadata": {
  "kernelspec": {
   "display_name": "Python 3 (ipykernel)",
   "language": "python",
   "name": "python3"
  },
  "language_info": {
   "codemirror_mode": {
    "name": "ipython",
    "version": 3
   },
   "file_extension": ".py",
   "mimetype": "text/x-python",
   "name": "python",
   "nbconvert_exporter": "python",
   "pygments_lexer": "ipython3",
   "version": "3.7.3"
  }
 },
 "nbformat": 4,
 "nbformat_minor": 4
}
